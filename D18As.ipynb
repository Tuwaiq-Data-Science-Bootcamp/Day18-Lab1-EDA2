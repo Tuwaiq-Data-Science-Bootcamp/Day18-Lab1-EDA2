{
 "cells": [
  {
   "cell_type": "code",
   "execution_count": 5,
   "id": "c24d710c",
   "metadata": {},
   "outputs": [],
   "source": [
    "import pandas as pd\n",
    "import seaborn as sns\n"
   ]
  },
  {
   "cell_type": "code",
   "execution_count": 12,
   "id": "2b82109f",
   "metadata": {},
   "outputs": [],
   "source": [
    "df=pd.DataFrame({'Exercise Name':['Push-up','Knee- Push-up','Crunch','Jump squat'],\n",
    "                 'chest':[0.25,0.25,0,0],'core':[0,0,0.25,0],\n",
    "                 'Legs and glutes':[0,0,0,0.25],\n",
    "                 'Sternal Pectoralis Major':[1,1,0,0],\n",
    "                 'Rectus Abdominis':[0,0,1,0],\n",
    "                 'Quadriceps':[0,0,0,1],\n",
    "                 'Anterior Deltoid':[0.50,0.50,0,0],\n",
    "                 'Clavicular':[0.50,0.50,0,0],\n",
    "                 'Triceps Brachii':[0.50,0.50,0,0],\n",
    "                 'Obliques':[0,0,0.50,0],\n",
    "                 'Gluteus Maximus': [0,0,0,0.50],\n",
    "                 'Dynamic stabilizer':[0.50,0,0,0.50]})\n"
   ]
  },
  {
   "cell_type": "code",
   "execution_count": 13,
   "id": "b5ba1a7b",
   "metadata": {},
   "outputs": [
    {
     "data": {
      "text/html": [
       "<div>\n",
       "<style scoped>\n",
       "    .dataframe tbody tr th:only-of-type {\n",
       "        vertical-align: middle;\n",
       "    }\n",
       "\n",
       "    .dataframe tbody tr th {\n",
       "        vertical-align: top;\n",
       "    }\n",
       "\n",
       "    .dataframe thead th {\n",
       "        text-align: right;\n",
       "    }\n",
       "</style>\n",
       "<table border=\"1\" class=\"dataframe\">\n",
       "  <thead>\n",
       "    <tr style=\"text-align: right;\">\n",
       "      <th></th>\n",
       "      <th>Exercise Name</th>\n",
       "      <th>chest</th>\n",
       "      <th>core</th>\n",
       "      <th>Legs and glutes</th>\n",
       "      <th>Sternal Pectoralis Major</th>\n",
       "      <th>Rectus Abdominis</th>\n",
       "      <th>Quadriceps</th>\n",
       "      <th>Anterior Deltoid</th>\n",
       "      <th>Clavicular</th>\n",
       "      <th>Triceps Brachii</th>\n",
       "      <th>Obliques</th>\n",
       "      <th>Gluteus Maximus</th>\n",
       "      <th>Dynamic stabilizer</th>\n",
       "    </tr>\n",
       "  </thead>\n",
       "  <tbody>\n",
       "    <tr>\n",
       "      <th>0</th>\n",
       "      <td>Push-up</td>\n",
       "      <td>0.25</td>\n",
       "      <td>0.00</td>\n",
       "      <td>0.00</td>\n",
       "      <td>1</td>\n",
       "      <td>0</td>\n",
       "      <td>0</td>\n",
       "      <td>0.5</td>\n",
       "      <td>0.5</td>\n",
       "      <td>0.5</td>\n",
       "      <td>0.0</td>\n",
       "      <td>0.0</td>\n",
       "      <td>0.5</td>\n",
       "    </tr>\n",
       "    <tr>\n",
       "      <th>1</th>\n",
       "      <td>Knee- Push-up</td>\n",
       "      <td>0.25</td>\n",
       "      <td>0.00</td>\n",
       "      <td>0.00</td>\n",
       "      <td>1</td>\n",
       "      <td>0</td>\n",
       "      <td>0</td>\n",
       "      <td>0.5</td>\n",
       "      <td>0.5</td>\n",
       "      <td>0.5</td>\n",
       "      <td>0.0</td>\n",
       "      <td>0.0</td>\n",
       "      <td>0.0</td>\n",
       "    </tr>\n",
       "    <tr>\n",
       "      <th>2</th>\n",
       "      <td>Crunch</td>\n",
       "      <td>0.00</td>\n",
       "      <td>0.25</td>\n",
       "      <td>0.00</td>\n",
       "      <td>0</td>\n",
       "      <td>1</td>\n",
       "      <td>0</td>\n",
       "      <td>0.0</td>\n",
       "      <td>0.0</td>\n",
       "      <td>0.0</td>\n",
       "      <td>0.5</td>\n",
       "      <td>0.0</td>\n",
       "      <td>0.0</td>\n",
       "    </tr>\n",
       "    <tr>\n",
       "      <th>3</th>\n",
       "      <td>Jump squat</td>\n",
       "      <td>0.00</td>\n",
       "      <td>0.00</td>\n",
       "      <td>0.25</td>\n",
       "      <td>0</td>\n",
       "      <td>0</td>\n",
       "      <td>1</td>\n",
       "      <td>0.0</td>\n",
       "      <td>0.0</td>\n",
       "      <td>0.0</td>\n",
       "      <td>0.0</td>\n",
       "      <td>0.5</td>\n",
       "      <td>0.5</td>\n",
       "    </tr>\n",
       "  </tbody>\n",
       "</table>\n",
       "</div>"
      ],
      "text/plain": [
       "   Exercise Name  chest  core  Legs and glutes  Sternal Pectoralis Major  \\\n",
       "0        Push-up   0.25  0.00             0.00                         1   \n",
       "1  Knee- Push-up   0.25  0.00             0.00                         1   \n",
       "2         Crunch   0.00  0.25             0.00                         0   \n",
       "3     Jump squat   0.00  0.00             0.25                         0   \n",
       "\n",
       "   Rectus Abdominis  Quadriceps  Anterior Deltoid  Clavicular  \\\n",
       "0                 0           0               0.5         0.5   \n",
       "1                 0           0               0.5         0.5   \n",
       "2                 1           0               0.0         0.0   \n",
       "3                 0           1               0.0         0.0   \n",
       "\n",
       "   Triceps Brachii  Obliques  Gluteus Maximus  Dynamic stabilizer  \n",
       "0              0.5       0.0              0.0                 0.5  \n",
       "1              0.5       0.0              0.0                 0.0  \n",
       "2              0.0       0.5              0.0                 0.0  \n",
       "3              0.0       0.0              0.5                 0.5  "
      ]
     },
     "execution_count": 13,
     "metadata": {},
     "output_type": "execute_result"
    }
   ],
   "source": [
    "df"
   ]
  },
  {
   "cell_type": "code",
   "execution_count": 14,
   "id": "7a36e158",
   "metadata": {},
   "outputs": [
    {
     "data": {
      "text/html": [
       "<div>\n",
       "<style scoped>\n",
       "    .dataframe tbody tr th:only-of-type {\n",
       "        vertical-align: middle;\n",
       "    }\n",
       "\n",
       "    .dataframe tbody tr th {\n",
       "        vertical-align: top;\n",
       "    }\n",
       "\n",
       "    .dataframe thead th {\n",
       "        text-align: right;\n",
       "    }\n",
       "</style>\n",
       "<table border=\"1\" class=\"dataframe\">\n",
       "  <thead>\n",
       "    <tr style=\"text-align: right;\">\n",
       "      <th></th>\n",
       "      <th>0</th>\n",
       "      <th>1</th>\n",
       "      <th>2</th>\n",
       "      <th>3</th>\n",
       "    </tr>\n",
       "  </thead>\n",
       "  <tbody>\n",
       "    <tr>\n",
       "      <th>0</th>\n",
       "      <td>1.000000</td>\n",
       "      <td>0.935414</td>\n",
       "      <td>0.0</td>\n",
       "      <td>0.141421</td>\n",
       "    </tr>\n",
       "    <tr>\n",
       "      <th>1</th>\n",
       "      <td>0.935414</td>\n",
       "      <td>1.000000</td>\n",
       "      <td>0.0</td>\n",
       "      <td>0.000000</td>\n",
       "    </tr>\n",
       "    <tr>\n",
       "      <th>2</th>\n",
       "      <td>0.000000</td>\n",
       "      <td>0.000000</td>\n",
       "      <td>1.0</td>\n",
       "      <td>0.000000</td>\n",
       "    </tr>\n",
       "    <tr>\n",
       "      <th>3</th>\n",
       "      <td>0.141421</td>\n",
       "      <td>0.000000</td>\n",
       "      <td>0.0</td>\n",
       "      <td>1.000000</td>\n",
       "    </tr>\n",
       "  </tbody>\n",
       "</table>\n",
       "</div>"
      ],
      "text/plain": [
       "          0         1    2         3\n",
       "0  1.000000  0.935414  0.0  0.141421\n",
       "1  0.935414  1.000000  0.0  0.000000\n",
       "2  0.000000  0.000000  1.0  0.000000\n",
       "3  0.141421  0.000000  0.0  1.000000"
      ]
     },
     "execution_count": 14,
     "metadata": {},
     "output_type": "execute_result"
    }
   ],
   "source": [
    "from sklearn.metrics.pairwise import cosine_similarity\n",
    "\n",
    "cos_sim_data = pd.DataFrame(cosine_similarity(df.iloc[: , 2:]))\n",
    "cos_sim_data"
   ]
  },
  {
   "cell_type": "code",
   "execution_count": 15,
   "id": "51986efe",
   "metadata": {},
   "outputs": [
    {
     "data": {
      "text/plain": [
       "<AxesSubplot:>"
      ]
     },
     "execution_count": 15,
     "metadata": {},
     "output_type": "execute_result"
    },
    {
     "data": {
      "image/png": "[encoded data removed]",
      "text/plain": [
       "<Figure size 432x288 with 2 Axes>"
      ]
     },
     "metadata": {
      "needs_background": "light"
     },
     "output_type": "display_data"
    }
   ],
   "source": [
    "sns.heatmap(cos_sim_data, annot=True)"
   ]
  },
  {
   "cell_type": "code",
   "execution_count": null,
   "id": "d5c09774",
   "metadata": {},
   "outputs": [],
   "source": []
  }
 ],
 "metadata": {
  "kernelspec": {
   "display_name": "Python 3",
   "language": "python",
   "name": "python3"
  },
  "language_info": {
   "codemirror_mode": {
    "name": "ipython",
    "version": 3
   },
   "file_extension": ".py",
   "mimetype": "text/x-python",
   "name": "python",
   "nbconvert_exporter": "python",
   "pygments_lexer": "ipython3",
   "version": "3.8.5"
  }
 },
 "nbformat": 4,
 "nbformat_minor": 5
}
