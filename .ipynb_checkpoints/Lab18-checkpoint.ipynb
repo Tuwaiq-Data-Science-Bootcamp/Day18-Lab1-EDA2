{
 "cells": [
  {
   "cell_type": "markdown",
   "id": "8bb14414",
   "metadata": {},
   "source": [
    "<h1 style=\"color:green\">Why Name (Logistic Regression)?"
   ]
  },
  {
   "cell_type": "markdown",
   "id": "4a22466c",
   "metadata": {},
   "source": [
    "- Regression means to go back to something. \n",
    "- In that sense, regression is the technique that allows \"to go back\" from messy, hard to interpret data, to a clearer and more meaningful model.\n",
    "- Logistic” is taken from the Logit function that is used in this method of classification."
   ]
  },
  {
   "cell_type": "markdown",
   "id": "af8ad3a1",
   "metadata": {},
   "source": [
    "<h1 style=\"color:blue\">Logistic Regression"
   ]
  },
  {
   "cell_type": "markdown",
   "id": "3b43daad",
   "metadata": {},
   "source": [
    "- Logistic Regression is used when the dependent variable(target) is categorical."
   ]
  },
  {
   "cell_type": "markdown",
   "id": "6dcaeb35",
   "metadata": {},
   "source": [
    "- For example,To predict whether an email is spam (1) or (0)"
   ]
  },
  {
   "cell_type": "markdown",
   "id": "94817cae",
   "metadata": {},
   "source": [
    "- linear regression is not suitable for classification problem.  while logistic regression is suitable for classification problem"
   ]
  },
  {
   "cell_type": "markdown",
   "id": "bed531f9",
   "metadata": {},
   "source": [
    "<h2 style=\"color:green\">Types of Logistic Regression"
   ]
  },
  {
   "cell_type": "markdown",
   "id": "282ebfaa",
   "metadata": {},
   "source": [
    "<h6 style=\"color:blue\">1. Binary Logistic Regression"
   ]
  },
  {
   "cell_type": "markdown",
   "id": "127f323b",
   "metadata": {},
   "source": [
    "      The categorical response has only two 2 possible outcomes. \n",
    "      Example: Spam or Not"
   ]
  },
  {
   "cell_type": "markdown",
   "id": "ff054492",
   "metadata": {},
   "source": [
    "<h6 style=\"color:blue\">2. Multinomial Logistic Regression"
   ]
  },
  {
   "cell_type": "markdown",
   "id": "c53fd007",
   "metadata": {},
   "source": [
    "    Three or more categories without ordering. \n",
    "    Example: Predicting which food is preferred more (Veg, Non-Veg, Vegan)"
   ]
  },
  {
   "cell_type": "markdown",
   "id": "9fce90a9",
   "metadata": {},
   "source": [
    "<h6 style=\"color:blue\">3. Ordinal Logistic Regression"
   ]
  },
  {
   "cell_type": "markdown",
   "id": "22377201",
   "metadata": {},
   "source": [
    "    Three or more categories with ordering. Example: Movie rating from 1 to 5"
   ]
  },
  {
   "cell_type": "markdown",
   "id": "da2f4c36",
   "metadata": {},
   "source": [
    "<h2 style=\"color:green\">Threshold"
   ]
  },
  {
   "cell_type": "markdown",
   "id": "b571b9d1",
   "metadata": {},
   "source": [
    "    Is used to predict which class a data belongs\n",
    "    Example if predicted_value ≥ 0.5, then classify email as spam \n",
    "    Based upon this threshold, the obtained estimated probability is classified into classes."
   ]
  },
  {
   "cell_type": "markdown",
   "id": "d9ea8c5b",
   "metadata": {},
   "source": [
    "<h2 style=\"color:green\">Linear Regression vs. Logistic Regression"
   ]
  },
  {
   "cell_type": "markdown",
   "id": "aabf97a6",
   "metadata": {},
   "source": [
    "<h6 style=\"color:blue\">Input"
   ]
  },
  {
   "cell_type": "markdown",
   "id": "4ddd2a90",
   "metadata": {},
   "source": [
    "- A linear regression algorithm relies on continuous dependent variable."
   ]
  },
  {
   "cell_type": "markdown",
   "id": "5fe4b3b2",
   "metadata": {},
   "source": [
    "- Logistic Regression is used when the dependent variable(target) is categorical."
   ]
  },
  {
   "cell_type": "markdown",
   "id": "20a4842b",
   "metadata": {},
   "source": [
    "- linear regression is not suitable for classification problem."
   ]
  },
  {
   "cell_type": "markdown",
   "id": "c002436b",
   "metadata": {},
   "source": [
    "- Logistic regression is used to handle the classification problems\n"
   ]
  },
  {
   "cell_type": "markdown",
   "id": "1701fdef",
   "metadata": {},
   "source": [
    "<h6 style=\"color:blue\">Output"
   ]
  },
  {
   "cell_type": "markdown",
   "id": "807ace20",
   "metadata": {},
   "source": [
    "- Linear regression provides a continuous output\n"
   ]
  },
  {
   "cell_type": "markdown",
   "id": "f759696f",
   "metadata": {},
   "source": [
    "- Logistic regression provides discreet output."
   ]
  },
  {
   "cell_type": "markdown",
   "id": "9f281e11",
   "metadata": {},
   "source": [
    "- Logistic regression’s output lies between 0 and 1 as the algorithm is designed to predict a binary outcome for an event based on the previous observations of a data set. "
   ]
  },
  {
   "cell_type": "markdown",
   "id": "0158d895",
   "metadata": {},
   "source": [
    "- both branch off from Supervised Learning"
   ]
  },
  {
   "cell_type": "markdown",
   "id": "6aff98e2",
   "metadata": {},
   "source": [
    "<h6 style=\"color:blue\">Relationship between variables"
   ]
  },
  {
   "cell_type": "markdown",
   "id": "e48abb85",
   "metadata": {},
   "source": [
    "- Linear regression describes a linear relationship between variables by plotting a straight line on a graph."
   ]
  },
  {
   "cell_type": "markdown",
   "id": "c6429786",
   "metadata": {},
   "source": [
    "- logistic regression is known to study and examine the probability of an event occurr"
   ]
  },
  {
   "cell_type": "markdown",
   "id": "8eb28187",
   "metadata": {},
   "source": [
    "<img src='1.png'>"
   ]
  },
  {
   "cell_type": "markdown",
   "id": "edf9ee2a",
   "metadata": {},
   "source": [
    "<img src=\"3.png\">"
   ]
  },
  {
   "cell_type": "markdown",
   "id": "32514334",
   "metadata": {},
   "source": [
    "<h6 style=\"color:blue\">Outliers in Linear Regression vs. Logistic Regression"
   ]
  },
  {
   "cell_type": "markdown",
   "id": "5c648a00",
   "metadata": {},
   "source": [
    "<img src='2.png'>"
   ]
  },
  {
   "cell_type": "code",
   "execution_count": null,
   "id": "e95a04fa",
   "metadata": {},
   "outputs": [],
   "source": []
  }
 ],
 "metadata": {
  "kernelspec": {
   "display_name": "Python 3 (ipykernel)",
   "language": "python",
   "name": "python3"
  },
  "language_info": {
   "codemirror_mode": {
    "name": "ipython",
    "version": 3
   },
   "file_extension": ".py",
   "mimetype": "text/x-python",
   "name": "python",
   "nbconvert_exporter": "python",
   "pygments_lexer": "ipython3",
   "version": "3.7.13"
  }
 },
 "nbformat": 4,
 "nbformat_minor": 5
}
